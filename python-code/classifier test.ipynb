{
 "cells": [
  {
   "cell_type": "code",
   "execution_count": 288,
   "metadata": {},
   "outputs": [],
   "source": [
    "##set up the environment\n",
    "import pandas as pd\n",
    "import numpy as np\n",
    "import matplotlib.pyplot as plt\n",
    "from sklearn.metrics import accuracy_score\n",
    "from sklearn.metrics import confusion_matrix\n",
    "from sklearn.metrics import f1_score\n",
    "from sklearn.metrics import precision_recall_fscore_support"
   ]
  },
  {
   "cell_type": "code",
   "execution_count": 289,
   "metadata": {},
   "outputs": [
    {
     "data": {
      "text/plain": [
       "(26728, 13)"
      ]
     },
     "execution_count": 289,
     "metadata": {},
     "output_type": "execute_result"
    }
   ],
   "source": [
    "#load Data\n",
    "dataset = pd.read_json('../tweets/formatted-tweets.txt')\n",
    "dataset.shape\n",
    "dataset.head()\n",
    "\n",
    "authors = pd.read_json('../tweets/formatted-authors.txt')\n",
    "authors.shape"
   ]
  },
  {
   "cell_type": "code",
   "execution_count": 290,
   "metadata": {},
   "outputs": [],
   "source": [
    "#filter and merge\n",
    "hurtfulTweets = dataset[dataset[\"score\"]>=1]\n",
    "y = hurtfulTweets[~pd.isnull(hurtfulTweets[\"reply_to_pseudo\"]) | ~pd.isnull(hurtfulTweets[\"user_mentions_pseudo\"])]\n",
    "y.shape\n",
    "x = authors.drop_duplicates('author_pseudo')\n",
    "x.shape\n",
    "attacks = y.merge(x, left_on='author_id', right_on='author_id')\n",
    "attacks = attacks.loc[:,['emotion','hurtClass','reply_to_pseudo','score','user_mentions_pseudo','author_pseudo']]"
   ]
  },
  {
   "cell_type": "code",
   "execution_count": 291,
   "metadata": {},
   "outputs": [],
   "source": [
    "#loop attacks to quantify users\n",
    "users = x.loc[:,[\"author_pseudo\",\"total_send\",\"total_received\"]]\n",
    "users[\"total_send\"] = 0\n",
    "users[\"total_received\"] = 0\n",
    "\n",
    "for attack in attacks[pd.isnull(attacks['user_mentions_pseudo'])].iterrows():\n",
    "    #attacks\n",
    "    users.loc[users[\"author_pseudo\"]==attack[1]['author_pseudo'],\"total_send\"] += attack[1]['score']\n",
    "    #directly received\n",
    "    users.loc[users[\"author_pseudo\"]==attack[1]['reply_to_pseudo'],\"total_received\"] += attack[1]['score']\n",
    "  \n",
    "for attack in attacks[~pd.isnull(attacks['user_mentions_pseudo'])].iterrows():\n",
    "    #attacks\n",
    "    users.loc[users[\"author_pseudo\"]==attack[1]['author_pseudo'],\"total_send\"] += attack[1]['score']\n",
    "    #directly received\n",
    "    users.loc[users[\"author_pseudo\"]==attack[1]['reply_to_pseudo'],\"total_received\"] += attack[1]['score']\n",
    "    #mentioned\n",
    "    for mention in attack[1]['user_mentions_pseudo']: \n",
    "        users.loc[users[\"author_pseudo\"]==mention,\"total_received\"] += attack[1]['score']\n"
   ]
  },
  {
   "cell_type": "code",
   "execution_count": 292,
   "metadata": {},
   "outputs": [
    {
     "data": {
      "text/html": [
       "<div>\n",
       "<style>\n",
       "    .dataframe thead tr:only-child th {\n",
       "        text-align: right;\n",
       "    }\n",
       "\n",
       "    .dataframe thead th {\n",
       "        text-align: left;\n",
       "    }\n",
       "\n",
       "    .dataframe tbody tr th {\n",
       "        vertical-align: top;\n",
       "    }\n",
       "</style>\n",
       "<table border=\"1\" class=\"dataframe\">\n",
       "  <thead>\n",
       "    <tr style=\"text-align: right;\">\n",
       "      <th></th>\n",
       "      <th>author_pseudo</th>\n",
       "      <th>total_send</th>\n",
       "      <th>total_received</th>\n",
       "    </tr>\n",
       "  </thead>\n",
       "  <tbody>\n",
       "    <tr>\n",
       "      <th>0</th>\n",
       "      <td>zaphodgjd</td>\n",
       "      <td>10</td>\n",
       "      <td>0</td>\n",
       "    </tr>\n",
       "    <tr>\n",
       "      <th>1</th>\n",
       "      <td>SleezyAlan</td>\n",
       "      <td>0</td>\n",
       "      <td>0</td>\n",
       "    </tr>\n",
       "    <tr>\n",
       "      <th>2</th>\n",
       "      <td>lindasue0818</td>\n",
       "      <td>4</td>\n",
       "      <td>0</td>\n",
       "    </tr>\n",
       "    <tr>\n",
       "      <th>3</th>\n",
       "      <td>falizeastudillo</td>\n",
       "      <td>6</td>\n",
       "      <td>0</td>\n",
       "    </tr>\n",
       "    <tr>\n",
       "      <th>4</th>\n",
       "      <td>Kavithamadhusu1</td>\n",
       "      <td>0</td>\n",
       "      <td>0</td>\n",
       "    </tr>\n",
       "  </tbody>\n",
       "</table>\n",
       "</div>"
      ],
      "text/plain": [
       "     author_pseudo  total_send  total_received\n",
       "0        zaphodgjd          10               0\n",
       "1       SleezyAlan           0               0\n",
       "2     lindasue0818           4               0\n",
       "3  falizeastudillo           6               0\n",
       "4  Kavithamadhusu1           0               0"
      ]
     },
     "execution_count": 292,
     "metadata": {},
     "output_type": "execute_result"
    }
   ],
   "source": [
    "users.head()"
   ]
  },
  {
   "cell_type": "code",
   "execution_count": 293,
   "metadata": {},
   "outputs": [],
   "source": [
    "users.to_csv('users.csv')"
   ]
  },
  {
   "cell_type": "code",
   "execution_count": 311,
   "metadata": {},
   "outputs": [],
   "source": [
    "attacks = y.merge(x, left_on='author_id', right_on='author_id')\n",
    "attacks[attacks['author_pseudo']=='GodofGreen2'].loc[:,['tweet_content','emotion','hurtClass']].to_csv('GodofGreen2.csv')"
   ]
  },
  {
   "cell_type": "code",
   "execution_count": 287,
   "metadata": {},
   "outputs": [],
   "source": [
    "dataset.loc[600:800,['tweet_content','hurtClass','class']].to_csv('to_tag1.csv')\n",
    "dataset.loc[1000:1200,['tweet_content','hurtClass','class']].to_csv('to_tag2.csv')\n",
    "dataset.loc[1300:1500,['tweet_content','hurtClass','class']].to_csv('to_tag3.csv')\n",
    "dataset.loc[1700:1900,['tweet_content','hurtClass','class']].to_csv('to_tag4.csv')\n",
    "dataset.loc[2000:2200,['tweet_content','hurtClass','class']].to_csv('to_tag5.csv')\n",
    "dataset.loc[2300:2500,['tweet_content','hurtClass','class']].to_csv('to_tag6.csv')\n",
    "dataset.loc[2700:2900,['tweet_content','hurtClass','class']].to_csv('to_tag7.csv')\n",
    "dataset.loc[3000:3200,['tweet_content','hurtClass','class']].to_csv('to_tag8.csv')\n",
    "dataset.loc[3300:3500,['tweet_content','hurtClass','class']].to_csv('to_tag9.csv')\n",
    "dataset.loc[3700:3900,['tweet_content','hurtClass','class']].to_csv('to_tag10.csv')"
   ]
  },
  {
   "cell_type": "code",
   "execution_count": 308,
   "metadata": {},
   "outputs": [
    {
     "data": {
      "text/plain": [
       "(array([ 0.52083333,  0.94230769,  0.16666667]),\n",
       " array([ 0.83333333,  0.6125    ,  0.8       ]),\n",
       " array([ 0.64102564,  0.74242424,  0.27586207]),\n",
       " array([ 30, 160,  10]))"
      ]
     },
     "execution_count": 308,
     "metadata": {},
     "output_type": "execute_result"
    }
   ],
   "source": [
    "#test accuracy\n",
    "tagged = pd.read_csv('to_tag3.csv')\n",
    "tagged = tagged[~pd.isnull(tagged['class'])]\n",
    "tagged['class'] = tagged['class'].astype(int)\n",
    "\n",
    "accuracy_score(tagged['class'],tagged['hurtClass'])\n",
    "f1_score(tagged['class'],tagged['hurtClass'],average='weighted')\n",
    "precision_recall_fscore_support(tagged['class'],tagged['hurtClass'], labels=[1,2,3])"
   ]
  },
  {
   "cell_type": "code",
   "execution_count": 309,
   "metadata": {},
   "outputs": [],
   "source": [
    "#add tagged data to tagged archive\n",
    "tagged.to_csv('tagged_data.csv', mode='a',header=False) "
   ]
  },
  {
   "cell_type": "code",
   "execution_count": 313,
   "metadata": {},
   "outputs": [
    {
     "data": {
      "text/plain": [
       "author_id                           int64\n",
       "emotion                            object\n",
       "favorite_count                      int64\n",
       "favorited_x                          bool\n",
       "hashtags                           object\n",
       "hurtClass                           int64\n",
       "inserted_in_es_at_x        datetime64[ns]\n",
       "is_a_retweet                         bool\n",
       "reply_to_pseudo                    object\n",
       "reply_to_tweet                    float64\n",
       "reply_to_user_id                  float64\n",
       "retweet_count                       int64\n",
       "score                               int64\n",
       "tweet_content                      object\n",
       "tweet_coordinates                  object\n",
       "tweet_created_at           datetime64[ns]\n",
       "tweet_id                            int64\n",
       "tweet_lang                         object\n",
       "urls                               object\n",
       "user_mentions_id                   object\n",
       "user_mentions_pseudo               object\n",
       "author_account_creation            object\n",
       "author_description                 object\n",
       "author_followers_count              int64\n",
       "author_friends_count                int64\n",
       "author_lang                        object\n",
       "author_location                    object\n",
       "author_name                        object\n",
       "author_pseudo                      object\n",
       "favorited_y                          bool\n",
       "inserted_in_es_at_y        datetime64[ns]\n",
       "is_author_protected                  bool\n",
       "is_author_verified                   bool\n",
       "dtype: object"
      ]
     },
     "execution_count": 313,
     "metadata": {},
     "output_type": "execute_result"
    }
   ],
   "source": [
    "attacks.dtypes"
   ]
  }
 ],
 "metadata": {
  "kernelspec": {
   "display_name": "Python 3",
   "language": "python",
   "name": "python3"
  },
  "language_info": {
   "codemirror_mode": {
    "name": "ipython",
    "version": 3
   },
   "file_extension": ".py",
   "mimetype": "text/x-python",
   "name": "python",
   "nbconvert_exporter": "python",
   "pygments_lexer": "ipython3",
   "version": "3.5.2"
  }
 },
 "nbformat": 4,
 "nbformat_minor": 2
}
